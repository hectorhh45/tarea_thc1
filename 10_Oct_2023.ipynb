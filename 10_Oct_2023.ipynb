{
  "nbformat": 4,
  "nbformat_minor": 0,
  "metadata": {
    "colab": {
      "provenance": [],
      "authorship_tag": "ABX9TyOTp8nnouVKXZYCQ101z4GK",
      "include_colab_link": true
    },
    "kernelspec": {
      "name": "python3",
      "display_name": "Python 3"
    },
    "language_info": {
      "name": "python"
    }
  },
  "cells": [
    {
      "cell_type": "markdown",
      "metadata": {
        "id": "view-in-github",
        "colab_type": "text"
      },
      "source": [
        "<a href=\"https://colab.research.google.com/github/hectorhh45/tarea_thc1/blob/main/10_Oct_2023.ipynb\" target=\"_parent\"><img src=\"https://colab.research.google.com/assets/colab-badge.svg\" alt=\"Open In Colab\"/></a>"
      ]
    },
    {
      "cell_type": "code",
      "execution_count": 1,
      "metadata": {
        "colab": {
          "base_uri": "https://localhost:8080/"
        },
        "id": "jAYZDRlXsueV",
        "outputId": "5f82cc27-527a-48a2-dcdf-e9c5f7688241"
      },
      "outputs": [
        {
          "output_type": "stream",
          "name": "stdout",
          "text": [
            "{'Brand': 'Ford', 'Model': 'Mustang', 'Year': 2020}\n"
          ]
        }
      ],
      "source": [
        "thisdict = {\n",
        "    \"Brand\": \"Ford\",\n",
        "    \"Model\": \"Mustang\",\n",
        "    \"Year\": 1964,\n",
        "    \"Year\": 2020\n",
        "}\n",
        "print(thisdict)"
      ]
    },
    {
      "cell_type": "code",
      "source": [
        "diccionario = {\"python\": 2.7, \"zope\": 2.13, \"plone\": 5.7}\n",
        "l=[]\n",
        "for i in diccionario.keys():\n",
        "  print(i)\n",
        "  l.append(diccionario[i])\n",
        "\n",
        "print(l)"
      ],
      "metadata": {
        "colab": {
          "base_uri": "https://localhost:8080/"
        },
        "id": "fE7rkq-hxFUo",
        "outputId": "23495293-5a1a-4545-95d5-f5976457b843"
      },
      "execution_count": 3,
      "outputs": [
        {
          "output_type": "stream",
          "name": "stdout",
          "text": [
            "python\n",
            "zope\n",
            "plone\n",
            "[2.7, 2.13, 5.7]\n"
          ]
        }
      ]
    },
    {
      "cell_type": "code",
      "source": [
        "import pandas as pd\n",
        "#crear diccionario con datos\n",
        "datos={\n",
        "    \"Nombre\": [\"Juan\", \"Maria\", \"Pedro\", \"Luisa\"],\n",
        "    \"Edad\": [25, 28, 22, 30],\n",
        "    \"Ciudad\": [\"Madrid\", \"Barcelona\", \"Valencia\", \"Sevilla\"]\n",
        "}\n",
        "#Crear un dataframe a partir del diccionario\n",
        "dataframe= pd.DataFrame(datos)\n",
        "#mostar el dataframe\n",
        "print(dataframe)"
      ],
      "metadata": {
        "colab": {
          "base_uri": "https://localhost:8080/"
        },
        "id": "cJx5VZQ1yPpS",
        "outputId": "8478ac82-5abf-4d63-8220-5c43d40511eb"
      },
      "execution_count": 5,
      "outputs": [
        {
          "output_type": "stream",
          "name": "stdout",
          "text": [
            "  Nombre  Edad     Ciudad\n",
            "0   Juan    25     Madrid\n",
            "1  Maria    28  Barcelona\n",
            "2  Pedro    22   Valencia\n",
            "3  Luisa    30    Sevilla\n"
          ]
        }
      ]
    },
    {
      "cell_type": "code",
      "source": [
        "frutas = (\"tuna\", \"mango\", \"fresa\")\n",
        "for fruta in frutas:\n",
        "  print(fruta)"
      ],
      "metadata": {
        "colab": {
          "base_uri": "https://localhost:8080/"
        },
        "id": "34wUGqHa0ee_",
        "outputId": "e12fea3b-6efb-437a-e142-2c1d20a68d26"
      },
      "execution_count": 7,
      "outputs": [
        {
          "output_type": "stream",
          "name": "stdout",
          "text": [
            "tuna\n",
            "mango\n",
            "fresa\n"
          ]
        }
      ]
    },
    {
      "cell_type": "code",
      "source": [
        "if \"manzana\" in frutas:\n",
        "  print(\"Si, la manzana esta en la tupla\")"
      ],
      "metadata": {
        "id": "TY90Atl51WXW"
      },
      "execution_count": 8,
      "outputs": []
    },
    {
      "cell_type": "code",
      "source": [
        "if \"mango\" in frutas:\n",
        "  print(\"Si, el mango esta en la tupla\")"
      ],
      "metadata": {
        "colab": {
          "base_uri": "https://localhost:8080/"
        },
        "id": "0iCWHrL21u5x",
        "outputId": "f1fcad0e-108c-4c31-99ef-fef4e3699b63"
      },
      "execution_count": 10,
      "outputs": [
        {
          "output_type": "stream",
          "name": "stdout",
          "text": [
            "Si, el mango esta en la tupla\n"
          ]
        }
      ]
    },
    {
      "cell_type": "code",
      "source": [
        "def mi_funcion():\n",
        "  print(\"Hola, te saludo desde la funcion\")"
      ],
      "metadata": {
        "id": "tYtyYsRX2QSY"
      },
      "execution_count": 11,
      "outputs": []
    },
    {
      "cell_type": "code",
      "source": [
        "mi_funcion()"
      ],
      "metadata": {
        "colab": {
          "base_uri": "https://localhost:8080/"
        },
        "id": "rRlqYCbv244x",
        "outputId": "d09ff167-3421-4ad7-98a8-e70494caa73c"
      },
      "execution_count": 12,
      "outputs": [
        {
          "output_type": "stream",
          "name": "stdout",
          "text": [
            "Hola, te saludo desde la funcion\n"
          ]
        }
      ]
    },
    {
      "cell_type": "code",
      "source": [
        "def mi_funcnion_2 (fname):\n",
        "  print(\"Hola, \"+fname +\" te saluda desde su funcion\")\n",
        "\n",
        "mi_funcnion_2(\"Hector\")"
      ],
      "metadata": {
        "colab": {
          "base_uri": "https://localhost:8080/"
        },
        "id": "EC8HyWcT3PZd",
        "outputId": "795a4c34-1372-4be9-df59-00cc19741892"
      },
      "execution_count": 15,
      "outputs": [
        {
          "output_type": "stream",
          "name": "stdout",
          "text": [
            "Hola, Hector te saluda desde su funcion\n"
          ]
        }
      ]
    },
    {
      "cell_type": "code",
      "source": [
        "def Nombre(fname, lname):\n",
        "  print(\"Hola, \"+fname +\" \" + lname+ \" te saluda desde su funcion\")\n",
        "Nombre(\"Hector\",\"HH\")"
      ],
      "metadata": {
        "colab": {
          "base_uri": "https://localhost:8080/"
        },
        "id": "lEx1woaD4DbX",
        "outputId": "26780b48-384b-4800-8797-0c8ddd44a58b"
      },
      "execution_count": 17,
      "outputs": [
        {
          "output_type": "stream",
          "name": "stdout",
          "text": [
            "Hola, Hector HH te saluda desde su funcion\n"
          ]
        }
      ]
    },
    {
      "cell_type": "code",
      "source": [
        "def mi_funcion_3(*kids):\n",
        "  print(\"El niño menor es \"+ kids[2])\n",
        "mi_funcion_3(\"juan\", \"pepe\", \"jorgito\")"
      ],
      "metadata": {
        "colab": {
          "base_uri": "https://localhost:8080/"
        },
        "id": "Bwz1MtS844OP",
        "outputId": "610609e9-773a-4f11-e16a-dc0918a5a8c0"
      },
      "execution_count": 18,
      "outputs": [
        {
          "output_type": "stream",
          "name": "stdout",
          "text": [
            "El niño menor es jorgito\n"
          ]
        }
      ]
    },
    {
      "cell_type": "code",
      "source": [
        "def suma_vectores():\n",
        "    # Pedir al usuario el número de vectores\n",
        "    num_vectores = int(input(\"Introduce el número de vectores que deseas sumar: \"))\n",
        "    # Crear un diccionario para almacenar los vectores\n",
        "    vectores = {}\n",
        "    # Pedir al usuario los valores de los vectores y almacenarlos en el diccionario\n",
        "    for i in range(num_vectores):\n",
        "        vector_str = input(f\"Introduce el vector {i + 1} en formato 'x,y,z': \")\n",
        "        vector = [int(x) for x in vector_str.split(',')]\n",
        "        vectores[f'vector_{i + 1}'] = vector\n",
        "    # Sumar los vectores\n",
        "    resultado = [0, 0, 0]\n",
        "    for vector in vectores.values():\n",
        "        resultado[0] += vector[0]\n",
        "        resultado[1] += vector[1]\n",
        "        resultado[2] += vector[2]\n",
        "    # Mostrar el resultado\n",
        "    print(f\"La suma de los vectores es: {resultado}\")\n",
        "# Llamar a la función para sumar vectores\n",
        "suma_vectores()"
      ],
      "metadata": {
        "colab": {
          "base_uri": "https://localhost:8080/"
        },
        "id": "773VJOJz5amR",
        "outputId": "84c90bef-2c22-42cc-d103-bca69f5a4f45"
      },
      "execution_count": 31,
      "outputs": [
        {
          "output_type": "stream",
          "name": "stdout",
          "text": [
            "Introduce el número de vectores que deseas sumar: 2\n",
            "Introduce el vector 1 en formato 'x,y,z': 1,1,1\n",
            "Introduce el vector 2 en formato 'x,y,z': 1,1,1\n",
            "La suma de los vectores es: [2, 2, 2]\n"
          ]
        }
      ]
    },
    {
      "cell_type": "code",
      "source": [
        "def producto_punto(vector1, vector2):\n",
        "    # Calcular el producto punto de dos vectores\n",
        "    resultado = vector1[0] * vector2[0] + vector1[1] * vector2[1] + vector1[2] * vector2[2]\n",
        "    return resultado\n",
        "\n",
        "def calcular_producto_punto():\n",
        "    # Pedir al usuario los valores de los vectores y almacenarlos en un diccionario\n",
        "    vectores = {}\n",
        "    for i in range(2):\n",
        "        vector_str = input(f\"Introduce el vector {i + 1} en formato 'x,y,z': \")\n",
        "        vector = [int(x) for x in vector_str.split(',')]\n",
        "        vectores[f'vector_{i + 1}'] = vector\n",
        "\n",
        "    # Obtener los vectores del diccionario\n",
        "    vector1 = vectores['vector_1']\n",
        "    vector2 = vectores['vector_2']\n",
        "\n",
        "    # Calcular el producto punto de los vectores\n",
        "    resultado = producto_punto(vector1, vector2)\n",
        "\n",
        "    # Mostrar el resultado\n",
        "    print(f\"El producto punto de los vectores es: {resultado}\")\n",
        "\n",
        "# Llamar a la función para calcular el producto punto\n",
        "calcular_producto_punto()\n"
      ],
      "metadata": {
        "colab": {
          "base_uri": "https://localhost:8080/"
        },
        "id": "l9Ya0ZGgD1Ms",
        "outputId": "e7937ce3-bb8d-4218-d226-c8c56e65de33"
      },
      "execution_count": 32,
      "outputs": [
        {
          "output_type": "stream",
          "name": "stdout",
          "text": [
            "Introduce el vector 1 en formato 'x,y,z': 1,2,3\n",
            "Introduce el vector 2 en formato 'x,y,z': 3,2,1\n",
            "El producto punto de los vectores es: 10\n"
          ]
        }
      ]
    }
  ]
}