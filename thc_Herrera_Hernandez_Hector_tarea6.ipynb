{
  "nbformat": 4,
  "nbformat_minor": 0,
  "metadata": {
    "colab": {
      "provenance": [],
      "authorship_tag": "ABX9TyMV3x1eeWTXIxiut4Wg4KdO",
      "include_colab_link": true
    },
    "kernelspec": {
      "name": "python3",
      "display_name": "Python 3"
    },
    "language_info": {
      "name": "python"
    }
  },
  "cells": [
    {
      "cell_type": "markdown",
      "metadata": {
        "id": "view-in-github",
        "colab_type": "text"
      },
      "source": [
        "<a href=\"https://colab.research.google.com/github/hectorhh45/tarea_thc1/blob/main/thc_Herrera_Hernandez_Hector_tarea6.ipynb\" target=\"_parent\"><img src=\"https://colab.research.google.com/assets/colab-badge.svg\" alt=\"Open In Colab\"/></a>"
      ]
    },
    {
      "cell_type": "markdown",
      "source": [
        "# Tarea 6\n",
        "# Herrera Hernández Hector (HHH)\n",
        "# thc_Herrera_Hernandez_Hector_tarea6"
      ],
      "metadata": {
        "id": "YTcEvXf7axj1"
      }
    },
    {
      "cell_type": "markdown",
      "source": [
        "Dado dos vectores, calcular:\n",
        "el Producto de los vectores"
      ],
      "metadata": {
        "id": "JfEhDaiAZubE"
      }
    },
    {
      "cell_type": "code",
      "source": [
        "#pedir al usuario las componentes del primer vector\n",
        "vector1 = {}\n",
        "vector1[\"x\"] = float(input(\"ingrese la componente x del primer vector: \"))\n",
        "vector1[\"y\"] = float(input(\"ingrese la componente y del primer vector: \"))\n",
        "vector1[\"z\"] = float(input(\"ingrese la componente z del primer vector: \"))\n",
        "#pedir al usuario las componentes del segundo vector\n",
        "vector2 = {}\n",
        "vector2[\"x\"] = float(input(\"ingrese la componente x del segundo vector: \"))\n",
        "vector2[\"y\"] = float(input(\"ingrese la componente y del segundo vector: \"))\n",
        "vector2[\"z\"] = float(input(\"ingrese la componente z del segundo vector: \"))\n",
        "#calcular el producto punto\n",
        "producto_punto = vector1[\"x\"] * vector2[\"x\"] + vector1[\"y\"] * vector2[\"y\"] + vector1[\"z\"] * vector2[\"z\"]\n",
        "#imprimir el resultado\n",
        "print(\"el producto punto de los dos vectores es:\", producto_punto)\n"
      ],
      "metadata": {
        "colab": {
          "base_uri": "https://localhost:8080/"
        },
        "id": "IguDXH7OZe8r",
        "outputId": "178d839d-12c8-4ee6-a429-85cc6449df1e"
      },
      "execution_count": 2,
      "outputs": [
        {
          "output_type": "stream",
          "name": "stdout",
          "text": [
            "ingrese la componente x del primer vector: 12\n",
            "ingrese la componente y del primer vector: 1\n",
            "ingrese la componente z del primer vector: 1\n",
            "ingrese la componente x del segundo vector: 1\n",
            "ingrese la componente y del segundo vector: 12\n",
            "ingrese la componente z del segundo vector: 12\n",
            "el producto punto de los dos vectores es: 36.0\n"
          ]
        }
      ]
    },
    {
      "cell_type": "markdown",
      "source": [
        "Dado dos vectores, calcular:\n",
        "la potencia de cada vector (n=3)"
      ],
      "metadata": {
        "id": "ai778mopZzK-"
      }
    },
    {
      "cell_type": "code",
      "source": [
        "#función para elevar al cubo las componentes de un vector\n",
        "def elevar_al_cubo(vector):\n",
        "    resultado = {}\n",
        "    for componente, valor in vector.items():\n",
        "        resultado[componente] = valor ** 3\n",
        "    return resultado\n",
        "#pedir al usuario las componentes del primer vector\n",
        "vector1 = {}\n",
        "vector1[\"x\"] = float(input(\"Ingrese la componente x del primer vector: \"))\n",
        "vector1[\"y\"] = float(input(\"Ingrese la componente y del primer vector: \"))\n",
        "vector1[\"z\"] = float(input(\"Ingrese la componente z del primer vector: \"))\n",
        "#pedir al usuario las componentes del segundo vector\n",
        "vector2 = {}\n",
        "vector2[\"x\"] = float(input(\"Ingrese la componente x del segundo vector: \"))\n",
        "vector2[\"y\"] = float(input(\"Ingrese la componente y del segundo vector: \"))\n",
        "vector2[\"z\"] = float(input(\"Ingrese la componente z del segundo vector: \"))\n",
        "#elevar al cubo las componentes de los vectores\n",
        "vector1_cubo = elevar_al_cubo(vector1)\n",
        "vector2_cubo = elevar_al_cubo(vector2)\n",
        "#imprimir los resultados\n",
        "print(\"el primer vector elevado al cubo es:\", vector1_cubo)\n",
        "print(\"el segundo vector elevado al cubo es:\", vector2_cubo)"
      ],
      "metadata": {
        "colab": {
          "base_uri": "https://localhost:8080/"
        },
        "id": "b9OOasc6Z5Wp",
        "outputId": "4ddc8d82-ad14-442f-d3f4-87d036bafbd1"
      },
      "execution_count": 3,
      "outputs": [
        {
          "output_type": "stream",
          "name": "stdout",
          "text": [
            "Ingrese la componente x del primer vector: 2\n",
            "Ingrese la componente y del primer vector: 2\n",
            "Ingrese la componente z del primer vector: 2\n",
            "Ingrese la componente x del segundo vector: 2\n",
            "Ingrese la componente y del segundo vector: 2\n",
            "Ingrese la componente z del segundo vector: 2\n",
            "el primer vector elevado al cubo es: {'x': 8.0, 'y': 8.0, 'z': 8.0}\n",
            "el segundo vector elevado al cubo es: {'x': 8.0, 'y': 8.0, 'z': 8.0}\n"
          ]
        }
      ]
    },
    {
      "cell_type": "markdown",
      "source": [
        "Dado dos vectores, calcular:\n",
        "el producto escalar."
      ],
      "metadata": {
        "id": "rd9CzEi3aWeL"
      }
    },
    {
      "cell_type": "code",
      "source": [
        "#función para calcular el producto escalar de dos vectores representados como diccionarios\n",
        "def producto_escalar(vector1, vector2):\n",
        "    resultado = 0\n",
        "    for componente in vector1:\n",
        "        resultado += vector1[componente] * vector2[componente]\n",
        "    return resultado\n",
        "#pedir al usuario las componentes del primer vector\n",
        "vector1 = {}\n",
        "vector1[\"x\"] = float(input(\"Ingrese la componente x del primer vector: \"))\n",
        "vector1[\"y\"] = float(input(\"Ingrese la componente y del primer vector: \"))\n",
        "vector1[\"z\"] = float(input(\"Ingrese la componente z del primer vector: \"))\n",
        "#pedir al usuario las componentes del segundo vector\n",
        "vector2 = {}\n",
        "vector2[\"x\"] = float(input(\"Ingrese la componente x del segundo vector: \"))\n",
        "vector2[\"y\"] = float(input(\"Ingrese la componente y del segundo vector: \"))\n",
        "vector2[\"z\"] = float(input(\"Ingrese la componente z del segundo vector: \"))\n",
        "#calcular el producto escalar\n",
        "resultado = producto_escalar(vector1, vector2)\n",
        "#imprimir el resultado\n",
        "print(\"El producto escalar de los dos vectores es:\", resultado)"
      ],
      "metadata": {
        "colab": {
          "base_uri": "https://localhost:8080/"
        },
        "id": "6VUhILzeaZjp",
        "outputId": "ba6f5332-a237-4420-9cb6-0a4fb6026508"
      },
      "execution_count": 4,
      "outputs": [
        {
          "output_type": "stream",
          "name": "stdout",
          "text": [
            "Ingrese la componente x del primer vector: 1\n",
            "Ingrese la componente y del primer vector: 2\n",
            "Ingrese la componente z del primer vector: 3\n",
            "Ingrese la componente x del segundo vector: 3\n",
            "Ingrese la componente y del segundo vector: 2\n",
            "Ingrese la componente z del segundo vector: 1\n",
            "El producto escalar de los dos vectores es: 10.0\n"
          ]
        }
      ]
    }
  ]
}