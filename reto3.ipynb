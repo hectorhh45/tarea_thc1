{
  "nbformat": 4,
  "nbformat_minor": 0,
  "metadata": {
    "colab": {
      "provenance": [],
      "authorship_tag": "ABX9TyOohPs9rN8hVBxu9C26iWDD",
      "include_colab_link": true
    },
    "kernelspec": {
      "name": "python3",
      "display_name": "Python 3"
    },
    "language_info": {
      "name": "python"
    }
  },
  "cells": [
    {
      "cell_type": "markdown",
      "metadata": {
        "id": "view-in-github",
        "colab_type": "text"
      },
      "source": [
        "<a href=\"https://colab.research.google.com/github/hectorhh45/tarea_thc1/blob/main/reto3.ipynb\" target=\"_parent\"><img src=\"https://colab.research.google.com/assets/colab-badge.svg\" alt=\"Open In Colab\"/></a>"
      ]
    },
    {
      "cell_type": "code",
      "execution_count": 3,
      "metadata": {
        "colab": {
          "base_uri": "https://localhost:8080/"
        },
        "id": "4UybEAd6j29T",
        "outputId": "9730cf8a-4ed0-484d-e932-d89895a95d8c"
      },
      "outputs": [
        {
          "output_type": "stream",
          "name": "stdout",
          "text": [
            "Hora en Ciudad de México: 03:26\n",
            "Hora en Tokio: 17:26\n",
            "Hora en Pekin: 16:26\n",
            "Hora en Dusambé: 14:26\n",
            "Hora en Perth: 17:26\n",
            "Hora en Katmandu: 15:26\n",
            "Hora en Vilna: 10:26\n",
            "Hora en Freetown: 03:26\n",
            "Hora en Rio_de_Janeiro: 05:26\n",
            "Hora en Tegucigalpa: 02:26\n",
            "Hora en Kinsgton: 02:26\n",
            "Hora en Los_Angeles: 01:26\n"
          ]
        }
      ],
      "source": [
        "from datetime import datetime, timedelta\n",
        "\n",
        "# Definir la diferencia horaria de cada ciudad respecto a la Ciudad de México\n",
        "diferencia_horaria = {\n",
        "    'Tokio': 14,\n",
        "    'Pekin': 13,\n",
        "    'Dusambé': 11,\n",
        "    'Perth': 14,\n",
        "    'Katmandu': 11.75,\n",
        "    'Vilna': 7,\n",
        "    'Freetown': 0,\n",
        "    'Rio_de_Janeiro': 2,\n",
        "    'Tegucigalpa': -1,\n",
        "    'Kinsgton': -1,\n",
        "    'Los_Angeles': -2\n",
        "}\n",
        "\n",
        "# Función para calcular la hora en otras ciudades\n",
        "calcular_hora = lambda ciudad, hora_mexico: (hora_mexico + diferencia_horaria[ciudad]) % 24\n",
        "\n",
        "# Obtener la hora actual en Ciudad de México\n",
        "hora_mexico_actual = datetime.now()\n",
        "\n",
        "# Imprimir la hora actual en Ciudad de México\n",
        "print(f'Hora en Ciudad de México: {hora_mexico_actual.strftime(\"%H:%M\")}')\n",
        "\n",
        "# Calcular y mostrar la hora en otras ciudades\n",
        "for ciudad in diferencia_horaria:\n",
        "    hora_ciudad = calcular_hora(ciudad, hora_mexico_actual.hour)\n",
        "    print(f'Hora en {ciudad}: {hora_ciudad:02.0f}:{hora_mexico_actual.minute:02.0f}')\n"
      ]
    },
    {
      "cell_type": "code",
      "source": [
        "import random\n",
        "\n",
        "# Definir la funciónjugar_piedra_papel_tijeras\n",
        "def jugar_piedra_papel_tijeras(jugador):\n",
        "    opciones = ['piedra', 'papel', 'tijeras']\n",
        "    computadora = random.choice(opciones)\n",
        "\n",
        "    print(f\"Jugador selecciona: {jugador}\")\n",
        "    print(f\"Computadora selecciona: {computadora}\")\n",
        "\n",
        "    if jugador == computadora:\n",
        "        return \"¡Empate!\"\n",
        "    elif (\n",
        "        (jugador == 'piedra' and computadora == 'tijeras') or\n",
        "        (jugador == 'papel' and computadora == 'piedra') or\n",
        "        (jugador == 'tijeras' and computadora == 'papel')\n",
        "    ):\n",
        "        return \"¡Victoria! :)\"\n",
        "    else:\n",
        "        return \"¡Derrota! :(\"\n",
        "# Llamar a la función y mostrar el resultado\n",
        "# Ejemplo de uso\n",
        "jugador = input(\"Elige piedra, papel o tijeras: \").lower()\n",
        "# Verificar la entrada del jugador\n",
        "if jugador in ['piedra', 'papel', 'tijeras']:\n",
        "    resultado = jugar_piedra_papel_tijeras(jugador)\n",
        "    print(resultado)\n",
        "else:\n",
        "    print(\"Entrada inválida. Por favor, elige piedra, papel o tijeras.\")"
      ],
      "metadata": {
        "colab": {
          "base_uri": "https://localhost:8080/"
        },
        "id": "ABA_PD-hl6mX",
        "outputId": "fca982a5-8dfe-4aea-d892-b86f3639824e"
      },
      "execution_count": 10,
      "outputs": [
        {
          "output_type": "stream",
          "name": "stdout",
          "text": [
            "Elige piedra, papel o tijeras: piedra\n",
            "Jugador selecciona: piedra\n",
            "Computadora selecciona: piedra\n",
            "¡Empate!\n"
          ]
        }
      ]
    },
    {
      "cell_type": "code",
      "source": [
        "import random\n",
        "# Definir la funciónlanzar_dado\n",
        "def lanzar_dado():\n",
        "    return random.randint(1, 6)\n",
        "# Definir la función jugar_dados\n",
        "def jugar_dados():\n",
        "    while True:\n",
        "        input(\"Presiona Enter para lanzar los dados...\")\n",
        "\n",
        "        dado_ivan = lanzar_dado()\n",
        "        dado_miguel = lanzar_dado()\n",
        "\n",
        "        print(f'Iván lanzó: {dado_ivan}')\n",
        "        print(f'Miguel lanzó: {dado_miguel}')\n",
        "\n",
        "        if dado_ivan == 1:\n",
        "            print(\"¡Iván vuelve a lanzar!\")\n",
        "        elif dado_miguel == 1:\n",
        "            print(\"¡Miguel vuelve a lanzar!\")\n",
        "        elif dado_ivan == 6 and dado_miguel == 6:\n",
        "            print(\"¡Empate! Ambos sacaron un 6.\")\n",
        "            break\n",
        "        elif dado_ivan == 6:\n",
        "            print(\"¡Empate! Iván sacó un 6.\")\n",
        "            break\n",
        "        elif dado_miguel == 6:\n",
        "            print(\"¡Empate! Miguel sacó un 6.\")\n",
        "            break\n",
        "        elif dado_ivan == 2 or dado_ivan == 3:\n",
        "            print(\"¡Iván gana!\")\n",
        "            break\n",
        "        elif dado_miguel == 4 or dado_miguel == 5:\n",
        "            print(\"¡Miguel gana!\")\n",
        "            break\n",
        "        else:\n",
        "            print(\"Ninguna condición se cumple. Vuelve a intentar.\")\n",
        "\n",
        "# Iniciar el juego\n",
        "print(\"Bienvenido al juego de dados entre Iván y Miguel.\")\n",
        "jugar_dados()\n"
      ],
      "metadata": {
        "colab": {
          "base_uri": "https://localhost:8080/"
        },
        "id": "IZyc3Crgmq3U",
        "outputId": "efb81ee9-2471-4ab2-8b70-fe2aec9f289b"
      },
      "execution_count": 13,
      "outputs": [
        {
          "output_type": "stream",
          "name": "stdout",
          "text": [
            "Bienvenido al juego de dados entre Iván y Miguel.\n",
            "Presiona Enter para lanzar los dados...\n",
            "Iván lanzó: 2\n",
            "Miguel lanzó: 6\n",
            "¡Empate! Miguel sacó un 6.\n"
          ]
        }
      ]
    }
  ]
}