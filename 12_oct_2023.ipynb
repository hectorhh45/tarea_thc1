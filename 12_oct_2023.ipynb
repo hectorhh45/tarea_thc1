{
  "nbformat": 4,
  "nbformat_minor": 0,
  "metadata": {
    "colab": {
      "provenance": [],
      "authorship_tag": "ABX9TyPYavhskc6ZV8yvZJdZ63gf",
      "include_colab_link": true
    },
    "kernelspec": {
      "name": "python3",
      "display_name": "Python 3"
    },
    "language_info": {
      "name": "python"
    }
  },
  "cells": [
    {
      "cell_type": "markdown",
      "metadata": {
        "id": "view-in-github",
        "colab_type": "text"
      },
      "source": [
        "<a href=\"https://colab.research.google.com/github/hectorhh45/tarea_thc1/blob/main/12_oct_2023.ipynb\" target=\"_parent\"><img src=\"https://colab.research.google.com/assets/colab-badge.svg\" alt=\"Open In Colab\"/></a>"
      ]
    },
    {
      "cell_type": "code",
      "execution_count": 1,
      "metadata": {
        "colab": {
          "base_uri": "https://localhost:8080/"
        },
        "id": "olkOAwrwAkPz",
        "outputId": "9eb87480-4714-4a49-97d3-6ef7cdaa32c5"
      },
      "outputs": [
        {
          "output_type": "stream",
          "name": "stdout",
          "text": [
            "15\n"
          ]
        }
      ],
      "source": [
        "def mi_funcion(x):\n",
        "  return 5 * x\n",
        "print(mi_funcion(3))"
      ]
    },
    {
      "cell_type": "code",
      "source": [
        "def mi_funcion(x):\n",
        "  pass"
      ],
      "metadata": {
        "id": "OpXFSDTgFO9E"
      },
      "execution_count": 2,
      "outputs": []
    },
    {
      "cell_type": "code",
      "source": [
        "x= lambda a: a + 10\n",
        "print(x(5))"
      ],
      "metadata": {
        "colab": {
          "base_uri": "https://localhost:8080/"
        },
        "id": "utlxErs3GSPX",
        "outputId": "9cf07399-18aa-4228-dd3c-d66dd87bc6a8"
      },
      "execution_count": 7,
      "outputs": [
        {
          "output_type": "stream",
          "name": "stdout",
          "text": [
            "15\n"
          ]
        }
      ]
    },
    {
      "cell_type": "code",
      "source": [
        "def mifunc2(n):\n",
        "  return lambda a:a*n"
      ],
      "metadata": {
        "id": "ceJDMrXZHPWW"
      },
      "execution_count": 8,
      "outputs": []
    },
    {
      "cell_type": "code",
      "source": [
        "midoble = mifunc2(2)\n",
        "print(midoble(11))"
      ],
      "metadata": {
        "colab": {
          "base_uri": "https://localhost:8080/"
        },
        "id": "pV4oeZx6HVrQ",
        "outputId": "90ab727c-bf4a-41b3-f97c-c518983a5df3"
      },
      "execution_count": 14,
      "outputs": [
        {
          "output_type": "stream",
          "name": "stdout",
          "text": [
            "22\n"
          ]
        }
      ]
    },
    {
      "cell_type": "code",
      "source": [
        "def numeros_pares(inicio, fin):\n",
        "    pares = []\n",
        "    for numero in range(inicio, fin + 1):\n",
        "        if numero % 2 == 0:\n",
        "            pares.append(numero)\n",
        "    return pares\n",
        "inicio = 1\n",
        "fin = 100\n",
        "resultado = numeros_pares(inicio, fin)\n",
        "print(\"Números pares entre {} y {}: {}\".format(inicio, fin, resultado))"
      ],
      "metadata": {
        "colab": {
          "base_uri": "https://localhost:8080/"
        },
        "id": "T6nW4Hg6ITep",
        "outputId": "5696ca35-71fc-421b-af11-2fe79e4b1ff7"
      },
      "execution_count": 23,
      "outputs": [
        {
          "output_type": "stream",
          "name": "stdout",
          "text": [
            "Números pares entre 1 y 100: [2, 4, 6, 8, 10, 12, 14, 16, 18, 20, 22, 24, 26, 28, 30, 32, 34, 36, 38, 40, 42, 44, 46, 48, 50, 52, 54, 56, 58, 60, 62, 64, 66, 68, 70, 72, 74, 76, 78, 80, 82, 84, 86, 88, 90, 92, 94, 96, 98, 100]\n"
          ]
        }
      ]
    },
    {
      "cell_type": "code",
      "source": [
        "def cifrado(texto, desplazamiento):\n",
        "    return ''.join([chr(ord(c) + desplazamiento) if c.isalpha() else c for c in texto])\n",
        "texto_original = \"contraseña jeje\"\n",
        "desplazamiento = 7\n",
        "texto_encriptado = cifrado(texto_original, desplazamiento)\n",
        "print(texto_encriptado)     #lo saque de internet pero ps ni lo subi, nomas ando tratando de entenderlo unu"
      ],
      "metadata": {
        "colab": {
          "base_uri": "https://localhost:8080/"
        },
        "id": "4JllQeTELtab",
        "outputId": "be9963d9-609c-441b-d7c7-87e2718b5b7c"
      },
      "execution_count": 37,
      "outputs": [
        {
          "output_type": "stream",
          "name": "stdout",
          "text": [
            "jvu{yhzløh qlql\n"
          ]
        }
      ]
    },
    {
      "cell_type": "code",
      "source": [
        " name= \"Hector\"\n",
        " carac=[\"!\", \"º\", \"ª\", \"@\", \"+\"]\n",
        " for letra in name:\n",
        "  print(letra)"
      ],
      "metadata": {
        "colab": {
          "base_uri": "https://localhost:8080/"
        },
        "id": "hY_kjgkGS4E-",
        "outputId": "5356bc6b-acaa-4f95-b278-a6c0d9b08086"
      },
      "execution_count": 41,
      "outputs": [
        {
          "output_type": "stream",
          "name": "stdout",
          "text": [
            "H\n",
            "e\n",
            "c\n",
            "t\n",
            "o\n",
            "r\n"
          ]
        }
      ]
    },
    {
      "cell_type": "code",
      "source": [
        "A = [[1, 2, 3],[4, 5, 6],[7, 8, 9]]\n",
        "for j in range(len(A)):\n",
        "  print(A[0][j])"
      ],
      "metadata": {
        "colab": {
          "base_uri": "https://localhost:8080/"
        },
        "id": "OcFZ5hSmUdjV",
        "outputId": "8b9edc5c-f13c-41ed-c306-6219392e14a5"
      },
      "execution_count": 57,
      "outputs": [
        {
          "output_type": "stream",
          "name": "stdout",
          "text": [
            "1\n",
            "2\n",
            "3\n"
          ]
        }
      ]
    }
  ]
}