{
  "nbformat": 4,
  "nbformat_minor": 0,
  "metadata": {
    "colab": {
      "provenance": [],
      "authorship_tag": "ABX9TyM5h0hOFMi9cabapLay3+kM",
      "include_colab_link": true
    },
    "kernelspec": {
      "name": "python3",
      "display_name": "Python 3"
    },
    "language_info": {
      "name": "python"
    }
  },
  "cells": [
    {
      "cell_type": "markdown",
      "metadata": {
        "id": "view-in-github",
        "colab_type": "text"
      },
      "source": [
        "<a href=\"https://colab.research.google.com/github/hectorhh45/tarea_thc1/blob/main/thc_herrera_hern%C3%A1ndez_hector_tarea5.ipynb\" target=\"_parent\"><img src=\"https://colab.research.google.com/assets/colab-badge.svg\" alt=\"Open In Colab\"/></a>"
      ]
    },
    {
      "cell_type": "code",
      "execution_count": 4,
      "metadata": {
        "colab": {
          "base_uri": "https://localhost:8080/"
        },
        "id": "3BirsWOiTnbC",
        "outputId": "2866f53c-79af-415f-edc5-364cb7bfa39f"
      },
      "outputs": [
        {
          "output_type": "stream",
          "name": "stdout",
          "text": [
            "Ingresa un número: 457\n",
            "Ingresa un número: 4567\n",
            "Ingresa un número: 23456\n",
            "Ingresa un número: 3456\n",
            "Ingresa un número: 45\n",
            "El promedio de los números en la lista es:  6396.2\n"
          ]
        }
      ],
      "source": [
        "# Declarar una lista con 5 números\n",
        "lista_numeros = [0, 0, 0, 0, 0]3\n",
        "# Pedir al usuario que ingrese 5 números y guardarlos en la lista\n",
        "for i in range(5):\n",
        "    numero = float(input(\"Ingresa un número: \"))\n",
        "    lista_numeros[i] = numero\n",
        "# Calcular el promedio de los valores en la lista\n",
        "promedio = sum(lista_numeros) / len(lista_numeros)\n",
        "# Imprimir el promedio\n",
        "print(\"El promedio de los números en la lista es: \", promedio)\n"
      ]
    },
    {
      "cell_type": "code",
      "source": [
        "# Pedir al usuario que ingrese una lista de números separados por espacios\n",
        "numeros = input(\"Ingresa una lista de números separados por espacios: \")\n",
        "# Convertir la entrada del usuario en una lista de números\n",
        "lista_numeros = list(map(float, numeros.split()))\n",
        "# Encontrar el valor máximo y mínimo en la lista\n",
        "maximo = max(lista_numeros)\n",
        "minimo = min(lista_numeros)\n",
        "# Imprimir el valor máximo y mínimo\n",
        "print(\"El valor máximo en la lista es:\", maximo)\n",
        "print(\"El valor mínimo en la lista es:\", minimo)"
      ],
      "metadata": {
        "colab": {
          "base_uri": "https://localhost:8080/"
        },
        "id": "9pKAD_d5U-eX",
        "outputId": "45f4879d-0acb-49ee-af94-a651b57887dc"
      },
      "execution_count": 5,
      "outputs": [
        {
          "output_type": "stream",
          "name": "stdout",
          "text": [
            "Ingresa una lista de números separados por espacios: 1828881 2 1 3 1 2 3 1 0 \n",
            "El valor máximo en la lista es: 1828881.0\n",
            "El valor mínimo en la lista es: 0.0\n"
          ]
        }
      ]
    },
    {
      "cell_type": "code",
      "source": [
        "# Pedir al usuario que ingrese una lista de números separados por espacios\n",
        "numeros = input(\"Ingresa una lista de números separados por espacios: \")\n",
        "# Convertir la entrada del usuario en una lista de números\n",
        "lista_numeros = list(map(int, numeros.split()))\n",
        "# Inicializar listas para números pares e impares\n",
        "numeros_pares = []\n",
        "numeros_impares = []\n",
        "# Clasificar los números en listas separadas para pares e impares\n",
        "for numero in lista_numeros:\n",
        "    if numero % 2 == 0:\n",
        "        numeros_pares.append(numero)\n",
        "    else:\n",
        "        numeros_impares.append(numero)\n",
        "# Imprimir las listas de números pares e impares\n",
        "print(\"Números pares:\", numeros_pares)\n",
        "print(\"Números impares:\", numeros_impares)"
      ],
      "metadata": {
        "colab": {
          "base_uri": "https://localhost:8080/"
        },
        "id": "l2dq4fAJVRTN",
        "outputId": "1f693b22-f53c-4dd6-bada-5419faea3e99"
      },
      "execution_count": 6,
      "outputs": [
        {
          "output_type": "stream",
          "name": "stdout",
          "text": [
            "Ingresa una lista de números separados por espacios: 4 5 6 7 8 9 1 23 134 23456 5 234 5\n",
            "Números pares: [4, 6, 8, 134, 23456, 234]\n",
            "Números impares: [5, 7, 9, 1, 23, 5, 5]\n"
          ]
        }
      ]
    }
  ]
}