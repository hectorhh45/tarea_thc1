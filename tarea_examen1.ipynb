{
  "nbformat": 4,
  "nbformat_minor": 0,
  "metadata": {
    "colab": {
      "provenance": [],
      "authorship_tag": "ABX9TyPUB4zUkit+ablx+puqvNDw",
      "include_colab_link": true
    },
    "kernelspec": {
      "name": "python3",
      "display_name": "Python 3"
    },
    "language_info": {
      "name": "python"
    }
  },
  "cells": [
    {
      "cell_type": "markdown",
      "metadata": {
        "id": "view-in-github",
        "colab_type": "text"
      },
      "source": [
        "<a href=\"https://colab.research.google.com/github/hectorhh45/tarea_thc1/blob/main/tarea_examen1.ipynb\" target=\"_parent\"><img src=\"https://colab.research.google.com/assets/colab-badge.svg\" alt=\"Open In Colab\"/></a>"
      ]
    },
    {
      "cell_type": "code",
      "source": [
        "# TAREA/EXAMEN 1\n",
        "  # Integrantes:\n",
        "    # Herrera Hernández Hector (HHH)\n",
        "    # Templos Valdez Juan Emiliano (TVJE)\n",
        "\n",
        "# TAREA/EXAMEN1.IPYNB"
      ],
      "metadata": {
        "id": "W_sp1Utbz-Xv"
      },
      "execution_count": null,
      "outputs": []
    },
    {
      "cell_type": "markdown",
      "source": [
        "1. Sumas de matrices rectangulares."
      ],
      "metadata": {
        "id": "Rxpf3RMovEMC"
      }
    },
    {
      "cell_type": "code",
      "source": [
        "# Definir las matrices de entrada\n",
        "matriz_a = [[1, 2, 3],[4, 5, 6],[7, 8, 9]]\n",
        "matriz_b = [[10, 11, 12],[13, 14, 15],[16, 17, 18]]\n",
        "\n",
        "# Inicializar una matriz para almacenar el resultado\n",
        "matriz_resultante = [[0, 0, 0], [0, 0, 0], [0, 0, 0]]\n",
        "\n",
        "# Sumar las matrices\n",
        "for i in range(len(matriz_a)):\n",
        "    for j in range(len(matriz_a[0])):\n",
        "        matriz_resultante[i][j] = matriz_a[i][j] + matriz_b[i][j]\n",
        "\n",
        "# Imprimir la matriz resultante\n",
        "print(\"Matriz Resultante:\")\n",
        "for fila in matriz_resultante:\n",
        "    print(fila)\n"
      ],
      "metadata": {
        "colab": {
          "base_uri": "https://localhost:8080/"
        },
        "id": "_DMuF72PvGc-",
        "outputId": "84e44e8d-4901-4a9a-a29a-e6f53dbfe5aa"
      },
      "execution_count": 1,
      "outputs": [
        {
          "output_type": "stream",
          "name": "stdout",
          "text": [
            "Matriz Resultante:\n",
            "[11, 13, 15]\n",
            "[17, 19, 21]\n",
            "[23, 25, 27]\n"
          ]
        }
      ]
    },
    {
      "cell_type": "markdown",
      "source": [
        "2. Multiplicación entrada a entrada rectangulares."
      ],
      "metadata": {
        "id": "5HiRDc0pvoVC"
      }
    },
    {
      "cell_type": "code",
      "source": [
        "# Definir las matrices de entrada\n",
        "matriz_a = [[1, 2, 3],[4, 5, 6],[7, 8, 9]]\n",
        "matriz_b = [[10, 11, 12],[13, 14, 15],[16, 17, 18]]\n",
        "\n",
        "# Inicializar una matriz para almacenar el resultado del producto entrada por entrada\n",
        "matriz_resultante = [[0, 0, 0], [0, 0, 0], [0, 0, 0]]\n",
        "\n",
        "# Calcular el producto entrada por entrada\n",
        "for i in range(len(matriz_a)):\n",
        "    for j in range(len(matriz_a[0])):\n",
        "        matriz_resultante[i][j] = matriz_a[i][j] * matriz_b[i][j]\n",
        "\n",
        "# Imprimir la matriz resultante\n",
        "print(\"Matriz Resultante:\")\n",
        "for fila in matriz_resultante:\n",
        "    print(fila)\n"
      ],
      "metadata": {
        "colab": {
          "base_uri": "https://localhost:8080/"
        },
        "id": "xzuuidcGvsr_",
        "outputId": "7ca882f0-5d5f-4599-96ab-e7b28e89fc6b"
      },
      "execution_count": 2,
      "outputs": [
        {
          "output_type": "stream",
          "name": "stdout",
          "text": [
            "Matriz Resultante:\n",
            "[10, 22, 36]\n",
            "[52, 70, 90]\n",
            "[112, 136, 162]\n"
          ]
        }
      ]
    },
    {
      "cell_type": "markdown",
      "source": [
        "3. La traza."
      ],
      "metadata": {
        "id": "NOgR_vj5wLv5"
      }
    },
    {
      "cell_type": "code",
      "source": [
        "# Definir la matriz de entrada\n",
        "matriz_a = [[1, 2, 3],[4, 5, 6],[7, 8, 9]]\n",
        "\n",
        "# Calcular la traza de la matriz (suma de elementos en la diagonal principal)\n",
        "traza = 0\n",
        "for i in range(len(matriz_a)):\n",
        "    traza += matriz_a[i][i]\n",
        "\n",
        "# Imprimir el resultado\n",
        "print(\"La traza de la matriz es:\", traza)\n"
      ],
      "metadata": {
        "colab": {
          "base_uri": "https://localhost:8080/"
        },
        "id": "W93ANpOEwOGa",
        "outputId": "6c16a91f-93b1-4ea5-ca93-1671e917f0a8"
      },
      "execution_count": 3,
      "outputs": [
        {
          "output_type": "stream",
          "name": "stdout",
          "text": [
            "La traza de la matriz es: 15\n"
          ]
        }
      ]
    },
    {
      "cell_type": "markdown",
      "source": [
        "4. La transpuesta."
      ],
      "metadata": {
        "id": "8nACnOH1w9rj"
      }
    },
    {
      "cell_type": "code",
      "source": [
        "# Definir la matriz de entrada\n",
        "matriz_a = [[1, 2, 3],[4, 5, 6],[7, 8, 9]]\n",
        "\n",
        "# Inicializar una matriz para almacenar la transpuesta\n",
        "transpuesta = [[0, 0, 0], [0, 0, 0], [0, 0, 0]]\n",
        "\n",
        "# Calcular la transpuesta de la matriz\n",
        "for i in range(len(matriz_a)):\n",
        "    for j in range(len(matriz_a[0])):\n",
        "        transpuesta[j][i] = matriz_a[i][j]\n",
        "\n",
        "# Imprimir la matriz transpuesta\n",
        "print(\"Matriz Transpuesta:\")\n",
        "for fila in transpuesta:\n",
        "    print(fila)\n"
      ],
      "metadata": {
        "colab": {
          "base_uri": "https://localhost:8080/"
        },
        "id": "RYNJ5hQMw_AP",
        "outputId": "22335a71-b526-4eb2-cd41-33a0edf2bf7d"
      },
      "execution_count": 4,
      "outputs": [
        {
          "output_type": "stream",
          "name": "stdout",
          "text": [
            "Matriz Transpuesta:\n",
            "[1, 4, 7]\n",
            "[2, 5, 8]\n",
            "[3, 6, 9]\n"
          ]
        }
      ]
    },
    {
      "cell_type": "markdown",
      "source": [
        "5. El máximo y mínimo elemento en una matriz."
      ],
      "metadata": {
        "id": "MJjIbOgvxmHp"
      }
    },
    {
      "cell_type": "code",
      "source": [
        "# Definir la matriz de entrada\n",
        "matriz_b = [[10, 11, 12],[13, 14, 15],[16, 17, 18]]\n",
        "\n",
        "# Inicializar el máximo y el mínimo con el primer elemento de la matriz\n",
        "maximo = matriz_b[0][0]\n",
        "minimo = matriz_b[0][0]\n",
        "\n",
        "# Encontrar el máximo y el mínimo en la matriz\n",
        "for fila in matriz_b:\n",
        "    for elemento in fila:\n",
        "        if elemento > maximo:\n",
        "            maximo = elemento\n",
        "        elif elemento < minimo:\n",
        "            minimo = elemento\n",
        "\n",
        "# Imprimir el máximo y el mínimo\n",
        "print(\"El máximo elemento en la matriz es:\", maximo)\n",
        "print(\"El mínimo elemento en la matriz es:\", minimo)\n"
      ],
      "metadata": {
        "colab": {
          "base_uri": "https://localhost:8080/"
        },
        "id": "35gkd6VUxm5m",
        "outputId": "ef291cd4-b82e-47d5-f49f-beb779111af3"
      },
      "execution_count": 5,
      "outputs": [
        {
          "output_type": "stream",
          "name": "stdout",
          "text": [
            "El máximo elemento en la matriz es: 18\n",
            "El mínimo elemento en la matriz es: 10\n"
          ]
        }
      ]
    },
    {
      "cell_type": "markdown",
      "source": [
        "6. La suma del cuadrado de los elementos de una matriz."
      ],
      "metadata": {
        "id": "XEFXzKVHyGGl"
      }
    },
    {
      "cell_type": "code",
      "source": [
        "# Definir la matriz de entrada\n",
        "matriz_a = [[1, 2, 3],[4, 5, 6],[7, 8, 9]]\n",
        "\n",
        "# Inicializar la variable para almacenar la suma de los cuadrados\n",
        "suma_cuadrados = 0\n",
        "\n",
        "# Calcular la suma de los cuadrados de los elementos de la matriz\n",
        "for i in range(len(matriz_a)):\n",
        "    for j in range(len(matriz_a[0])):\n",
        "        suma_cuadrados += matriz_a[i][j] ** 2\n",
        "\n",
        "# Imprimir el resultado\n",
        "print(\"La suma de los cuadrados de los elementos de la matriz es:\", suma_cuadrados)\n"
      ],
      "metadata": {
        "colab": {
          "base_uri": "https://localhost:8080/"
        },
        "id": "2cVBwIKRyHDd",
        "outputId": "63b533df-cd10-4546-846f-a0a2ff88a169"
      },
      "execution_count": 6,
      "outputs": [
        {
          "output_type": "stream",
          "name": "stdout",
          "text": [
            "La suma de los cuadrados de los elementos de la matriz es: 285\n"
          ]
        }
      ]
    },
    {
      "cell_type": "markdown",
      "source": [
        "7. La potencia de matrices."
      ],
      "metadata": {
        "id": "twDrE-Zayxez"
      }
    },
    {
      "cell_type": "code",
      "source": [
        "# Definir la matriz de entrada\n",
        "matriz_a = [[1, 2, 3],[4, 5, 6],[7, 8, 9]]\n",
        "\n",
        "# Definir el exponente n\n",
        "n = 3  # Cambia esto al exponente que desees calcular\n",
        "\n",
        "# Calcular la matriz resultante elevando cada elemento a la potencia n\n",
        "matriz_resultante = [[elemento ** n for elemento in fila] for fila in matriz_a]\n",
        "\n",
        "# Imprimir la matriz resultante\n",
        "print(\"Matriz Resultante:\")\n",
        "for fila in matriz_resultante:\n",
        "    print(fila)\n"
      ],
      "metadata": {
        "colab": {
          "base_uri": "https://localhost:8080/"
        },
        "id": "Tl3hUZzozwNr",
        "outputId": "ef2ceb39-df19-47bf-b56f-e0403279b5ae"
      },
      "execution_count": 7,
      "outputs": [
        {
          "output_type": "stream",
          "name": "stdout",
          "text": [
            "Matriz Resultante:\n",
            "[1, 8, 27]\n",
            "[64, 125, 216]\n",
            "[343, 512, 729]\n"
          ]
        }
      ]
    }
  ]
}